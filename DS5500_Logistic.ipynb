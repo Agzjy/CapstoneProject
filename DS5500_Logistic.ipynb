{
 "cells": [
  {
   "cell_type": "code",
   "execution_count": 2,
   "id": "b8e6f1aa",
   "metadata": {},
   "outputs": [],
   "source": [
    "import pandas as pd\n",
    "import numpy as np\n",
    "from sklearn.compose import ColumnTransformer\n",
    "from sklearn.preprocessing import StandardScaler\n",
    "from sklearn.linear_model import LogisticRegression\n",
    "from sklearn.svm import SVC\n",
    "from sklearn.pipeline import make_pipeline\n",
    "from sklearn.metrics import accuracy_score, precision_score, recall_score, f1_score, balanced_accuracy_score"
   ]
  },
  {
   "cell_type": "markdown",
   "id": "09262445",
   "metadata": {},
   "source": [
    "### Load Dataset"
   ]
  },
  {
   "cell_type": "code",
   "execution_count": 4,
   "id": "25085314",
   "metadata": {},
   "outputs": [],
   "source": [
    "# read csv function\n",
    "def read_csv(file):\n",
    "    dataset = pd.read_csv(file)\n",
    "    return dataset"
   ]
  },
  {
   "cell_type": "code",
   "execution_count": 5,
   "id": "636d326e",
   "metadata": {},
   "outputs": [],
   "source": [
    "train = read_csv('/Users/ag/Desktop/trainProcessed.csv')\n",
    "validate = read_csv('/Users/ag/Desktop/validateProcessed.csv')\n",
    "test = read_csv('/Users/ag/Desktop/testProcessed.csv')"
   ]
  },
  {
   "cell_type": "code",
   "execution_count": 6,
   "id": "39ec2e5a",
   "metadata": {},
   "outputs": [
    {
     "data": {
      "text/html": [
       "<div>\n",
       "<style scoped>\n",
       "    .dataframe tbody tr th:only-of-type {\n",
       "        vertical-align: middle;\n",
       "    }\n",
       "\n",
       "    .dataframe tbody tr th {\n",
       "        vertical-align: top;\n",
       "    }\n",
       "\n",
       "    .dataframe thead th {\n",
       "        text-align: right;\n",
       "    }\n",
       "</style>\n",
       "<table border=\"1\" class=\"dataframe\">\n",
       "  <thead>\n",
       "    <tr style=\"text-align: right;\">\n",
       "      <th></th>\n",
       "      <th>AGE</th>\n",
       "      <th>DIFFERENTIAL_DIAGNOSIS</th>\n",
       "      <th>SEX</th>\n",
       "      <th>PATHOLOGY</th>\n",
       "      <th>INITIAL_EVIDENCE</th>\n",
       "      <th>I30</th>\n",
       "      <th>diarrhee</th>\n",
       "      <th>bode</th>\n",
       "      <th>lesions_peau_endroitducorps_@_face_dorsale_main_D_</th>\n",
       "      <th>douleurxx_irrad_@_sous_la_machoire</th>\n",
       "      <th>...</th>\n",
       "      <th>etourdissement</th>\n",
       "      <th>hernie_hiatale</th>\n",
       "      <th>douleurxx_irrad_@_trachée</th>\n",
       "      <th>douleurxx_endroitducorps_@_orteil__1__G_</th>\n",
       "      <th>ww_dd</th>\n",
       "      <th>lesions_peau_endroitducorps_@_petite_lèvre_G_</th>\n",
       "      <th>lesions_peau_elevee_@_2</th>\n",
       "      <th>j17_j18</th>\n",
       "      <th>lesions_peau_intens_@_0</th>\n",
       "      <th>lesions_peau_endroitducorps_@_vagin</th>\n",
       "    </tr>\n",
       "  </thead>\n",
       "  <tbody>\n",
       "    <tr>\n",
       "      <th>0</th>\n",
       "      <td>18</td>\n",
       "      <td>[['Bronchite', 0.19171203430383882], ['Pneumon...</td>\n",
       "      <td>0</td>\n",
       "      <td>IVRS ou virémie</td>\n",
       "      <td>fievre</td>\n",
       "      <td>0</td>\n",
       "      <td>0</td>\n",
       "      <td>0</td>\n",
       "      <td>0</td>\n",
       "      <td>0</td>\n",
       "      <td>...</td>\n",
       "      <td>0</td>\n",
       "      <td>0</td>\n",
       "      <td>0</td>\n",
       "      <td>0</td>\n",
       "      <td>0</td>\n",
       "      <td>0</td>\n",
       "      <td>0</td>\n",
       "      <td>0</td>\n",
       "      <td>0</td>\n",
       "      <td>0</td>\n",
       "    </tr>\n",
       "    <tr>\n",
       "      <th>1</th>\n",
       "      <td>21</td>\n",
       "      <td>[['VIH (Primo-infection)', 0.5189500564407601]...</td>\n",
       "      <td>0</td>\n",
       "      <td>VIH (Primo-infection)</td>\n",
       "      <td>diaph</td>\n",
       "      <td>0</td>\n",
       "      <td>1</td>\n",
       "      <td>0</td>\n",
       "      <td>0</td>\n",
       "      <td>0</td>\n",
       "      <td>...</td>\n",
       "      <td>0</td>\n",
       "      <td>0</td>\n",
       "      <td>0</td>\n",
       "      <td>0</td>\n",
       "      <td>0</td>\n",
       "      <td>0</td>\n",
       "      <td>0</td>\n",
       "      <td>0</td>\n",
       "      <td>0</td>\n",
       "      <td>0</td>\n",
       "    </tr>\n",
       "    <tr>\n",
       "      <th>2</th>\n",
       "      <td>19</td>\n",
       "      <td>[['Bronchite', 0.11278064619119596], ['Pneumon...</td>\n",
       "      <td>1</td>\n",
       "      <td>Pneumonie</td>\n",
       "      <td>expecto</td>\n",
       "      <td>0</td>\n",
       "      <td>0</td>\n",
       "      <td>0</td>\n",
       "      <td>0</td>\n",
       "      <td>0</td>\n",
       "      <td>...</td>\n",
       "      <td>0</td>\n",
       "      <td>0</td>\n",
       "      <td>0</td>\n",
       "      <td>0</td>\n",
       "      <td>0</td>\n",
       "      <td>0</td>\n",
       "      <td>0</td>\n",
       "      <td>1</td>\n",
       "      <td>1</td>\n",
       "      <td>0</td>\n",
       "    </tr>\n",
       "  </tbody>\n",
       "</table>\n",
       "<p>3 rows × 521 columns</p>\n",
       "</div>"
      ],
      "text/plain": [
       "   AGE                             DIFFERENTIAL_DIAGNOSIS  SEX  \\\n",
       "0   18  [['Bronchite', 0.19171203430383882], ['Pneumon...    0   \n",
       "1   21  [['VIH (Primo-infection)', 0.5189500564407601]...    0   \n",
       "2   19  [['Bronchite', 0.11278064619119596], ['Pneumon...    1   \n",
       "\n",
       "               PATHOLOGY INITIAL_EVIDENCE  I30  diarrhee  bode  \\\n",
       "0        IVRS ou virémie           fievre    0         0     0   \n",
       "1  VIH (Primo-infection)            diaph    0         1     0   \n",
       "2              Pneumonie          expecto    0         0     0   \n",
       "\n",
       "   lesions_peau_endroitducorps_@_face_dorsale_main_D_  \\\n",
       "0                                                  0    \n",
       "1                                                  0    \n",
       "2                                                  0    \n",
       "\n",
       "   douleurxx_irrad_@_sous_la_machoire  ...  etourdissement  hernie_hiatale  \\\n",
       "0                                   0  ...               0               0   \n",
       "1                                   0  ...               0               0   \n",
       "2                                   0  ...               0               0   \n",
       "\n",
       "   douleurxx_irrad_@_trachée  douleurxx_endroitducorps_@_orteil__1__G_  ww_dd  \\\n",
       "0                          0                                         0      0   \n",
       "1                          0                                         0      0   \n",
       "2                          0                                         0      0   \n",
       "\n",
       "   lesions_peau_endroitducorps_@_petite_lèvre_G_  lesions_peau_elevee_@_2  \\\n",
       "0                                              0                        0   \n",
       "1                                              0                        0   \n",
       "2                                              0                        0   \n",
       "\n",
       "   j17_j18  lesions_peau_intens_@_0  lesions_peau_endroitducorps_@_vagin  \n",
       "0        0                        0                                    0  \n",
       "1        0                        0                                    0  \n",
       "2        1                        1                                    0  \n",
       "\n",
       "[3 rows x 521 columns]"
      ]
     },
     "execution_count": 6,
     "metadata": {},
     "output_type": "execute_result"
    }
   ],
   "source": [
    "train.head(3)"
   ]
  },
  {
   "cell_type": "markdown",
   "id": "25571806",
   "metadata": {},
   "source": [
    "### Split dataset to x and y"
   ]
  },
  {
   "cell_type": "code",
   "execution_count": 7,
   "id": "8bbdaa7b",
   "metadata": {},
   "outputs": [],
   "source": [
    "# function for spliting dataset and drop columns\n",
    "def data_pre(df, target_column):\n",
    "    targets = {}\n",
    "    for column in target_columns:\n",
    "        targets[column] = df[column].copy()\n",
    "        df = df.drop(column, axis=1)\n",
    "    \n",
    "    data_X = df\n",
    "    return data_X, targets"
   ]
  },
  {
   "cell_type": "markdown",
   "id": "01e5474d",
   "metadata": {},
   "source": [
    "Train"
   ]
  },
  {
   "cell_type": "code",
   "execution_count": 13,
   "id": "466dde7a",
   "metadata": {},
   "outputs": [],
   "source": [
    "target_columns = ['PATHOLOGY', 'DIFFERENTIAL_DIAGNOSIS', 'INITIAL_EVIDENCE']\n",
    "train_X, train_targets = data_pre(train, target_columns)"
   ]
  },
  {
   "cell_type": "code",
   "execution_count": 14,
   "id": "5f7009c3",
   "metadata": {},
   "outputs": [],
   "source": [
    "train_targets_df = pd.DataFrame(train_targets)"
   ]
  },
  {
   "cell_type": "code",
   "execution_count": 15,
   "id": "84bcbd7d",
   "metadata": {},
   "outputs": [],
   "source": [
    "# Extract the column as train_y\n",
    "trainPathology_y = train_targets_df['PATHOLOGY'].copy()"
   ]
  },
  {
   "cell_type": "code",
   "execution_count": 16,
   "id": "de06df49",
   "metadata": {},
   "outputs": [
    {
     "data": {
      "text/html": [
       "<div>\n",
       "<style scoped>\n",
       "    .dataframe tbody tr th:only-of-type {\n",
       "        vertical-align: middle;\n",
       "    }\n",
       "\n",
       "    .dataframe tbody tr th {\n",
       "        vertical-align: top;\n",
       "    }\n",
       "\n",
       "    .dataframe thead th {\n",
       "        text-align: right;\n",
       "    }\n",
       "</style>\n",
       "<table border=\"1\" class=\"dataframe\">\n",
       "  <thead>\n",
       "    <tr style=\"text-align: right;\">\n",
       "      <th></th>\n",
       "      <th>AGE</th>\n",
       "      <th>SEX</th>\n",
       "      <th>I30</th>\n",
       "      <th>diarrhee</th>\n",
       "      <th>bode</th>\n",
       "      <th>lesions_peau_endroitducorps_@_face_dorsale_main_D_</th>\n",
       "      <th>douleurxx_irrad_@_sous_la_machoire</th>\n",
       "      <th>douleurxx_irrad_@_cartilage_thyroidien</th>\n",
       "      <th>douleurxx_irrad_@_arrière_de_tête</th>\n",
       "      <th>douleurxx_endroitducorps_@_hypochondre_G_</th>\n",
       "      <th>...</th>\n",
       "      <th>etourdissement</th>\n",
       "      <th>hernie_hiatale</th>\n",
       "      <th>douleurxx_irrad_@_trachée</th>\n",
       "      <th>douleurxx_endroitducorps_@_orteil__1__G_</th>\n",
       "      <th>ww_dd</th>\n",
       "      <th>lesions_peau_endroitducorps_@_petite_lèvre_G_</th>\n",
       "      <th>lesions_peau_elevee_@_2</th>\n",
       "      <th>j17_j18</th>\n",
       "      <th>lesions_peau_intens_@_0</th>\n",
       "      <th>lesions_peau_endroitducorps_@_vagin</th>\n",
       "    </tr>\n",
       "  </thead>\n",
       "  <tbody>\n",
       "    <tr>\n",
       "      <th>0</th>\n",
       "      <td>18</td>\n",
       "      <td>0</td>\n",
       "      <td>0</td>\n",
       "      <td>0</td>\n",
       "      <td>0</td>\n",
       "      <td>0</td>\n",
       "      <td>0</td>\n",
       "      <td>0</td>\n",
       "      <td>0</td>\n",
       "      <td>0</td>\n",
       "      <td>...</td>\n",
       "      <td>0</td>\n",
       "      <td>0</td>\n",
       "      <td>0</td>\n",
       "      <td>0</td>\n",
       "      <td>0</td>\n",
       "      <td>0</td>\n",
       "      <td>0</td>\n",
       "      <td>0</td>\n",
       "      <td>0</td>\n",
       "      <td>0</td>\n",
       "    </tr>\n",
       "    <tr>\n",
       "      <th>1</th>\n",
       "      <td>21</td>\n",
       "      <td>0</td>\n",
       "      <td>0</td>\n",
       "      <td>1</td>\n",
       "      <td>0</td>\n",
       "      <td>0</td>\n",
       "      <td>0</td>\n",
       "      <td>0</td>\n",
       "      <td>0</td>\n",
       "      <td>0</td>\n",
       "      <td>...</td>\n",
       "      <td>0</td>\n",
       "      <td>0</td>\n",
       "      <td>0</td>\n",
       "      <td>0</td>\n",
       "      <td>0</td>\n",
       "      <td>0</td>\n",
       "      <td>0</td>\n",
       "      <td>0</td>\n",
       "      <td>0</td>\n",
       "      <td>0</td>\n",
       "    </tr>\n",
       "  </tbody>\n",
       "</table>\n",
       "<p>2 rows × 518 columns</p>\n",
       "</div>"
      ],
      "text/plain": [
       "   AGE  SEX  I30  diarrhee  bode  \\\n",
       "0   18    0    0         0     0   \n",
       "1   21    0    0         1     0   \n",
       "\n",
       "   lesions_peau_endroitducorps_@_face_dorsale_main_D_  \\\n",
       "0                                                  0    \n",
       "1                                                  0    \n",
       "\n",
       "   douleurxx_irrad_@_sous_la_machoire  douleurxx_irrad_@_cartilage_thyroidien  \\\n",
       "0                                   0                                       0   \n",
       "1                                   0                                       0   \n",
       "\n",
       "   douleurxx_irrad_@_arrière_de_tête  \\\n",
       "0                                  0   \n",
       "1                                  0   \n",
       "\n",
       "   douleurxx_endroitducorps_@_hypochondre_G_  ...  etourdissement  \\\n",
       "0                                          0  ...               0   \n",
       "1                                          0  ...               0   \n",
       "\n",
       "   hernie_hiatale  douleurxx_irrad_@_trachée  \\\n",
       "0               0                          0   \n",
       "1               0                          0   \n",
       "\n",
       "   douleurxx_endroitducorps_@_orteil__1__G_  ww_dd  \\\n",
       "0                                         0      0   \n",
       "1                                         0      0   \n",
       "\n",
       "   lesions_peau_endroitducorps_@_petite_lèvre_G_  lesions_peau_elevee_@_2  \\\n",
       "0                                              0                        0   \n",
       "1                                              0                        0   \n",
       "\n",
       "   j17_j18  lesions_peau_intens_@_0  lesions_peau_endroitducorps_@_vagin  \n",
       "0        0                        0                                    0  \n",
       "1        0                        0                                    0  \n",
       "\n",
       "[2 rows x 518 columns]"
      ]
     },
     "execution_count": 16,
     "metadata": {},
     "output_type": "execute_result"
    }
   ],
   "source": [
    "train_X.head(2)"
   ]
  },
  {
   "cell_type": "markdown",
   "id": "bf1d2883",
   "metadata": {},
   "source": [
    "Validate"
   ]
  },
  {
   "cell_type": "code",
   "execution_count": 17,
   "id": "9dc8f3e8",
   "metadata": {},
   "outputs": [],
   "source": [
    "target_columns = ['PATHOLOGY', 'DIFFERENTIAL_DIAGNOSIS', 'INITIAL_EVIDENCE']\n",
    "validate_X, validate_targets = data_pre(validate, target_columns)"
   ]
  },
  {
   "cell_type": "code",
   "execution_count": 18,
   "id": "1275fd33",
   "metadata": {},
   "outputs": [],
   "source": [
    "validate_targets_df = pd.DataFrame(validate_targets)"
   ]
  },
  {
   "cell_type": "code",
   "execution_count": 19,
   "id": "e5cf1da8",
   "metadata": {},
   "outputs": [],
   "source": [
    "# Extract the column as test_y\n",
    "validatePathology_y = validate['PATHOLOGY'].copy()"
   ]
  },
  {
   "cell_type": "code",
   "execution_count": 20,
   "id": "044ee6a2",
   "metadata": {},
   "outputs": [
    {
     "data": {
      "text/html": [
       "<div>\n",
       "<style scoped>\n",
       "    .dataframe tbody tr th:only-of-type {\n",
       "        vertical-align: middle;\n",
       "    }\n",
       "\n",
       "    .dataframe tbody tr th {\n",
       "        vertical-align: top;\n",
       "    }\n",
       "\n",
       "    .dataframe thead th {\n",
       "        text-align: right;\n",
       "    }\n",
       "</style>\n",
       "<table border=\"1\" class=\"dataframe\">\n",
       "  <thead>\n",
       "    <tr style=\"text-align: right;\">\n",
       "      <th></th>\n",
       "      <th>AGE</th>\n",
       "      <th>SEX</th>\n",
       "      <th>I30</th>\n",
       "      <th>diarrhee</th>\n",
       "      <th>bode</th>\n",
       "      <th>lesions_peau_endroitducorps_@_face_dorsale_main_D_</th>\n",
       "      <th>douleurxx_irrad_@_sous_la_machoire</th>\n",
       "      <th>douleurxx_irrad_@_cartilage_thyroidien</th>\n",
       "      <th>douleurxx_irrad_@_arrière_de_tête</th>\n",
       "      <th>douleurxx_endroitducorps_@_hypochondre_G_</th>\n",
       "      <th>...</th>\n",
       "      <th>etourdissement</th>\n",
       "      <th>hernie_hiatale</th>\n",
       "      <th>douleurxx_irrad_@_trachée</th>\n",
       "      <th>douleurxx_endroitducorps_@_orteil__1__G_</th>\n",
       "      <th>ww_dd</th>\n",
       "      <th>lesions_peau_endroitducorps_@_petite_lèvre_G_</th>\n",
       "      <th>lesions_peau_elevee_@_2</th>\n",
       "      <th>j17_j18</th>\n",
       "      <th>lesions_peau_intens_@_0</th>\n",
       "      <th>lesions_peau_endroitducorps_@_vagin</th>\n",
       "    </tr>\n",
       "  </thead>\n",
       "  <tbody>\n",
       "    <tr>\n",
       "      <th>0</th>\n",
       "      <td>55</td>\n",
       "      <td>1</td>\n",
       "      <td>0</td>\n",
       "      <td>0</td>\n",
       "      <td>0</td>\n",
       "      <td>0</td>\n",
       "      <td>0</td>\n",
       "      <td>0</td>\n",
       "      <td>0</td>\n",
       "      <td>0</td>\n",
       "      <td>...</td>\n",
       "      <td>1</td>\n",
       "      <td>0</td>\n",
       "      <td>0</td>\n",
       "      <td>0</td>\n",
       "      <td>0</td>\n",
       "      <td>0</td>\n",
       "      <td>0</td>\n",
       "      <td>0</td>\n",
       "      <td>0</td>\n",
       "      <td>0</td>\n",
       "    </tr>\n",
       "    <tr>\n",
       "      <th>1</th>\n",
       "      <td>10</td>\n",
       "      <td>1</td>\n",
       "      <td>0</td>\n",
       "      <td>0</td>\n",
       "      <td>0</td>\n",
       "      <td>0</td>\n",
       "      <td>0</td>\n",
       "      <td>0</td>\n",
       "      <td>0</td>\n",
       "      <td>1</td>\n",
       "      <td>...</td>\n",
       "      <td>0</td>\n",
       "      <td>0</td>\n",
       "      <td>0</td>\n",
       "      <td>0</td>\n",
       "      <td>0</td>\n",
       "      <td>0</td>\n",
       "      <td>0</td>\n",
       "      <td>0</td>\n",
       "      <td>0</td>\n",
       "      <td>0</td>\n",
       "    </tr>\n",
       "    <tr>\n",
       "      <th>2</th>\n",
       "      <td>68</td>\n",
       "      <td>1</td>\n",
       "      <td>0</td>\n",
       "      <td>0</td>\n",
       "      <td>0</td>\n",
       "      <td>0</td>\n",
       "      <td>0</td>\n",
       "      <td>0</td>\n",
       "      <td>0</td>\n",
       "      <td>0</td>\n",
       "      <td>...</td>\n",
       "      <td>0</td>\n",
       "      <td>0</td>\n",
       "      <td>0</td>\n",
       "      <td>0</td>\n",
       "      <td>0</td>\n",
       "      <td>0</td>\n",
       "      <td>0</td>\n",
       "      <td>0</td>\n",
       "      <td>1</td>\n",
       "      <td>0</td>\n",
       "    </tr>\n",
       "  </tbody>\n",
       "</table>\n",
       "<p>3 rows × 518 columns</p>\n",
       "</div>"
      ],
      "text/plain": [
       "   AGE  SEX  I30  diarrhee  bode  \\\n",
       "0   55    1    0         0     0   \n",
       "1   10    1    0         0     0   \n",
       "2   68    1    0         0     0   \n",
       "\n",
       "   lesions_peau_endroitducorps_@_face_dorsale_main_D_  \\\n",
       "0                                                  0    \n",
       "1                                                  0    \n",
       "2                                                  0    \n",
       "\n",
       "   douleurxx_irrad_@_sous_la_machoire  douleurxx_irrad_@_cartilage_thyroidien  \\\n",
       "0                                   0                                       0   \n",
       "1                                   0                                       0   \n",
       "2                                   0                                       0   \n",
       "\n",
       "   douleurxx_irrad_@_arrière_de_tête  \\\n",
       "0                                  0   \n",
       "1                                  0   \n",
       "2                                  0   \n",
       "\n",
       "   douleurxx_endroitducorps_@_hypochondre_G_  ...  etourdissement  \\\n",
       "0                                          0  ...               1   \n",
       "1                                          1  ...               0   \n",
       "2                                          0  ...               0   \n",
       "\n",
       "   hernie_hiatale  douleurxx_irrad_@_trachée  \\\n",
       "0               0                          0   \n",
       "1               0                          0   \n",
       "2               0                          0   \n",
       "\n",
       "   douleurxx_endroitducorps_@_orteil__1__G_  ww_dd  \\\n",
       "0                                         0      0   \n",
       "1                                         0      0   \n",
       "2                                         0      0   \n",
       "\n",
       "   lesions_peau_endroitducorps_@_petite_lèvre_G_  lesions_peau_elevee_@_2  \\\n",
       "0                                              0                        0   \n",
       "1                                              0                        0   \n",
       "2                                              0                        0   \n",
       "\n",
       "   j17_j18  lesions_peau_intens_@_0  lesions_peau_endroitducorps_@_vagin  \n",
       "0        0                        0                                    0  \n",
       "1        0                        0                                    0  \n",
       "2        0                        1                                    0  \n",
       "\n",
       "[3 rows x 518 columns]"
      ]
     },
     "execution_count": 20,
     "metadata": {},
     "output_type": "execute_result"
    }
   ],
   "source": [
    "validate_X.head(3)"
   ]
  },
  {
   "cell_type": "markdown",
   "id": "e6438e24",
   "metadata": {},
   "source": [
    "Test"
   ]
  },
  {
   "cell_type": "code",
   "execution_count": 21,
   "id": "b70e18a8",
   "metadata": {},
   "outputs": [],
   "source": [
    "target_columns = ['PATHOLOGY', 'DIFFERENTIAL_DIAGNOSIS', 'INITIAL_EVIDENCE']\n",
    "test_X, test_targets = data_pre(test, target_columns)"
   ]
  },
  {
   "cell_type": "code",
   "execution_count": 22,
   "id": "9adda021",
   "metadata": {},
   "outputs": [],
   "source": [
    "test_targets_df = pd.DataFrame(test_targets)"
   ]
  },
  {
   "cell_type": "code",
   "execution_count": 23,
   "id": "a96b2b1d",
   "metadata": {},
   "outputs": [],
   "source": [
    "# Extract the column as test_y\n",
    "testPathology_y = test['PATHOLOGY'].copy()"
   ]
  },
  {
   "cell_type": "code",
   "execution_count": 24,
   "id": "f8513322",
   "metadata": {},
   "outputs": [
    {
     "data": {
      "text/html": [
       "<div>\n",
       "<style scoped>\n",
       "    .dataframe tbody tr th:only-of-type {\n",
       "        vertical-align: middle;\n",
       "    }\n",
       "\n",
       "    .dataframe tbody tr th {\n",
       "        vertical-align: top;\n",
       "    }\n",
       "\n",
       "    .dataframe thead th {\n",
       "        text-align: right;\n",
       "    }\n",
       "</style>\n",
       "<table border=\"1\" class=\"dataframe\">\n",
       "  <thead>\n",
       "    <tr style=\"text-align: right;\">\n",
       "      <th></th>\n",
       "      <th>AGE</th>\n",
       "      <th>SEX</th>\n",
       "      <th>I30</th>\n",
       "      <th>diarrhee</th>\n",
       "      <th>bode</th>\n",
       "      <th>lesions_peau_endroitducorps_@_face_dorsale_main_D_</th>\n",
       "      <th>douleurxx_irrad_@_sous_la_machoire</th>\n",
       "      <th>douleurxx_irrad_@_cartilage_thyroidien</th>\n",
       "      <th>douleurxx_irrad_@_arrière_de_tête</th>\n",
       "      <th>douleurxx_endroitducorps_@_hypochondre_G_</th>\n",
       "      <th>...</th>\n",
       "      <th>etourdissement</th>\n",
       "      <th>hernie_hiatale</th>\n",
       "      <th>douleurxx_irrad_@_trachée</th>\n",
       "      <th>douleurxx_endroitducorps_@_orteil__1__G_</th>\n",
       "      <th>ww_dd</th>\n",
       "      <th>lesions_peau_endroitducorps_@_petite_lèvre_G_</th>\n",
       "      <th>lesions_peau_elevee_@_2</th>\n",
       "      <th>j17_j18</th>\n",
       "      <th>lesions_peau_intens_@_0</th>\n",
       "      <th>lesions_peau_endroitducorps_@_vagin</th>\n",
       "    </tr>\n",
       "  </thead>\n",
       "  <tbody>\n",
       "    <tr>\n",
       "      <th>0</th>\n",
       "      <td>49</td>\n",
       "      <td>1</td>\n",
       "      <td>0</td>\n",
       "      <td>0</td>\n",
       "      <td>0</td>\n",
       "      <td>0</td>\n",
       "      <td>0</td>\n",
       "      <td>0</td>\n",
       "      <td>0</td>\n",
       "      <td>0</td>\n",
       "      <td>...</td>\n",
       "      <td>0</td>\n",
       "      <td>1</td>\n",
       "      <td>0</td>\n",
       "      <td>0</td>\n",
       "      <td>1</td>\n",
       "      <td>0</td>\n",
       "      <td>0</td>\n",
       "      <td>0</td>\n",
       "      <td>0</td>\n",
       "      <td>0</td>\n",
       "    </tr>\n",
       "    <tr>\n",
       "      <th>1</th>\n",
       "      <td>2</td>\n",
       "      <td>0</td>\n",
       "      <td>0</td>\n",
       "      <td>0</td>\n",
       "      <td>0</td>\n",
       "      <td>0</td>\n",
       "      <td>0</td>\n",
       "      <td>0</td>\n",
       "      <td>0</td>\n",
       "      <td>0</td>\n",
       "      <td>...</td>\n",
       "      <td>0</td>\n",
       "      <td>0</td>\n",
       "      <td>0</td>\n",
       "      <td>0</td>\n",
       "      <td>0</td>\n",
       "      <td>0</td>\n",
       "      <td>0</td>\n",
       "      <td>0</td>\n",
       "      <td>0</td>\n",
       "      <td>0</td>\n",
       "    </tr>\n",
       "  </tbody>\n",
       "</table>\n",
       "<p>2 rows × 518 columns</p>\n",
       "</div>"
      ],
      "text/plain": [
       "   AGE  SEX  I30  diarrhee  bode  \\\n",
       "0   49    1    0         0     0   \n",
       "1    2    0    0         0     0   \n",
       "\n",
       "   lesions_peau_endroitducorps_@_face_dorsale_main_D_  \\\n",
       "0                                                  0    \n",
       "1                                                  0    \n",
       "\n",
       "   douleurxx_irrad_@_sous_la_machoire  douleurxx_irrad_@_cartilage_thyroidien  \\\n",
       "0                                   0                                       0   \n",
       "1                                   0                                       0   \n",
       "\n",
       "   douleurxx_irrad_@_arrière_de_tête  \\\n",
       "0                                  0   \n",
       "1                                  0   \n",
       "\n",
       "   douleurxx_endroitducorps_@_hypochondre_G_  ...  etourdissement  \\\n",
       "0                                          0  ...               0   \n",
       "1                                          0  ...               0   \n",
       "\n",
       "   hernie_hiatale  douleurxx_irrad_@_trachée  \\\n",
       "0               1                          0   \n",
       "1               0                          0   \n",
       "\n",
       "   douleurxx_endroitducorps_@_orteil__1__G_  ww_dd  \\\n",
       "0                                         0      1   \n",
       "1                                         0      0   \n",
       "\n",
       "   lesions_peau_endroitducorps_@_petite_lèvre_G_  lesions_peau_elevee_@_2  \\\n",
       "0                                              0                        0   \n",
       "1                                              0                        0   \n",
       "\n",
       "   j17_j18  lesions_peau_intens_@_0  lesions_peau_endroitducorps_@_vagin  \n",
       "0        0                        0                                    0  \n",
       "1        0                        0                                    0  \n",
       "\n",
       "[2 rows x 518 columns]"
      ]
     },
     "execution_count": 24,
     "metadata": {},
     "output_type": "execute_result"
    }
   ],
   "source": [
    "test_X.head(2)"
   ]
  },
  {
   "cell_type": "markdown",
   "id": "db5bfbb9",
   "metadata": {},
   "source": [
    "### Logistic Regression"
   ]
  },
  {
   "cell_type": "code",
   "execution_count": 14,
   "id": "98db6e1c",
   "metadata": {},
   "outputs": [],
   "source": [
    "# Logistic Regression model\n",
    "# logistic_model = LogisticRegression(solver='saga', max_iter=100)\n",
    "logistic_model = LogisticRegression()"
   ]
  },
  {
   "cell_type": "code",
   "execution_count": 15,
   "id": "d02ea461",
   "metadata": {},
   "outputs": [
    {
     "name": "stderr",
     "output_type": "stream",
     "text": [
      "/Users/ag/opt/anaconda3/lib/python3.9/site-packages/sklearn/linear_model/_logistic.py:814: ConvergenceWarning: lbfgs failed to converge (status=1):\n",
      "STOP: TOTAL NO. of ITERATIONS REACHED LIMIT.\n",
      "\n",
      "Increase the number of iterations (max_iter) or scale the data as shown in:\n",
      "    https://scikit-learn.org/stable/modules/preprocessing.html\n",
      "Please also refer to the documentation for alternative solver options:\n",
      "    https://scikit-learn.org/stable/modules/linear_model.html#logistic-regression\n",
      "  n_iter_i = _check_optimize_result(\n"
     ]
    },
    {
     "data": {
      "text/plain": [
       "LogisticRegression()"
      ]
     },
     "execution_count": 15,
     "metadata": {},
     "output_type": "execute_result"
    }
   ],
   "source": [
    "# Fit the dataset\n",
    "logistic_model.fit(train_X, trainPathology_y)"
   ]
  },
  {
   "cell_type": "markdown",
   "id": "aff61319",
   "metadata": {},
   "source": [
    "### Fit and evaluate on validation dataset"
   ]
  },
  {
   "cell_type": "code",
   "execution_count": 16,
   "id": "bdf6fbff",
   "metadata": {},
   "outputs": [],
   "source": [
    "# Make predictions on validate dataset\n",
    "y_pred_validate = logistic_model.predict(validate_X)"
   ]
  },
  {
   "cell_type": "code",
   "execution_count": 21,
   "id": "ac02aef8",
   "metadata": {},
   "outputs": [
    {
     "name": "stdout",
     "output_type": "stream",
     "text": [
      "Model accuracy between train and validation is: 0.99199\n"
     ]
    }
   ],
   "source": [
    "# Evaluate the model\n",
    "accuracy_val = accuracy_score(validatePathology_y, y_pred_validate)\n",
    "print(f\"Model accuracy between train and validation is: {accuracy_val:.5f}\")"
   ]
  },
  {
   "cell_type": "markdown",
   "id": "a648d749",
   "metadata": {},
   "source": [
    "### Fit and evaluate on test dataset"
   ]
  },
  {
   "cell_type": "code",
   "execution_count": 22,
   "id": "ff01c0ff",
   "metadata": {},
   "outputs": [],
   "source": [
    "# Make predictions on test dataset\n",
    "y_pred = logistic_model.predict(test_X)"
   ]
  },
  {
   "cell_type": "code",
   "execution_count": 24,
   "id": "b2e219ee",
   "metadata": {},
   "outputs": [
    {
     "name": "stdout",
     "output_type": "stream",
     "text": [
      "Model accuracy between train and test is: 0.99193\n"
     ]
    }
   ],
   "source": [
    "# Evaluate the model\n",
    "accuracy = accuracy_score(testPathology_y, y_pred)\n",
    "print(f\"Model accuracy between train and test is: {accuracy:.5f}\")"
   ]
  },
  {
   "cell_type": "code",
   "execution_count": 27,
   "id": "16f00b3c",
   "metadata": {},
   "outputs": [
    {
     "name": "stdout",
     "output_type": "stream",
     "text": [
      "Precision between train and test is:  0.966378\n"
     ]
    },
    {
     "name": "stderr",
     "output_type": "stream",
     "text": [
      "/Users/ag/opt/anaconda3/lib/python3.9/site-packages/sklearn/metrics/_classification.py:1318: UndefinedMetricWarning: Precision is ill-defined and being set to 0.0 in labels with no predicted samples. Use `zero_division` parameter to control this behavior.\n",
      "  _warn_prf(average, modifier, msg_start, len(result))\n"
     ]
    }
   ],
   "source": [
    "precision = precision_score(testPathology_y, y_pred, average='macro')\n",
    "print(f\"Precision between train and test is: {precision: 5f}\")"
   ]
  },
  {
   "cell_type": "code",
   "execution_count": 29,
   "id": "b776b022",
   "metadata": {},
   "outputs": [
    {
     "name": "stdout",
     "output_type": "stream",
     "text": [
      "Recall between train and test is:  0.946374\n"
     ]
    }
   ],
   "source": [
    "recall = recall_score(testPathology_y, y_pred, average='macro')\n",
    "print(f\"Recall between train and test is: {recall: 5f}\")"
   ]
  },
  {
   "cell_type": "code",
   "execution_count": 30,
   "id": "928593dd",
   "metadata": {},
   "outputs": [
    {
     "name": "stdout",
     "output_type": "stream",
     "text": [
      "F1 Score:  0.949807\n"
     ]
    }
   ],
   "source": [
    "f1 = f1_score(testPathology_y, y_pred, average='macro')\n",
    "print(f\"F1 Score: {f1: 5f}\")"
   ]
  },
  {
   "cell_type": "code",
   "execution_count": 32,
   "id": "b4ab4121",
   "metadata": {},
   "outputs": [
    {
     "name": "stdout",
     "output_type": "stream",
     "text": [
      "Balanced Accuracy:  0.946374\n"
     ]
    }
   ],
   "source": [
    "balanced_accuracy = balanced_accuracy_score(testPathology_y, y_pred)\n",
    "\n",
    "print(f\"Balanced Accuracy: {balanced_accuracy: 5f}\")"
   ]
  }
 ],
 "metadata": {
  "kernelspec": {
   "display_name": "Python 3 (ipykernel)",
   "language": "python",
   "name": "python3"
  },
  "language_info": {
   "codemirror_mode": {
    "name": "ipython",
    "version": 3
   },
   "file_extension": ".py",
   "mimetype": "text/x-python",
   "name": "python",
   "nbconvert_exporter": "python",
   "pygments_lexer": "ipython3",
   "version": "3.9.13"
  }
 },
 "nbformat": 4,
 "nbformat_minor": 5
}
