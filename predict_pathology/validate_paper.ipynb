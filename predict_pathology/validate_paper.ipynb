{
 "cells": [
  {
   "cell_type": "markdown",
   "metadata": {},
   "source": [
    "#### This notebook shows the comparison between pathology and differential diagnosis in the paper"
   ]
  },
  {
   "cell_type": "code",
   "execution_count": 1,
   "metadata": {},
   "outputs": [],
   "source": [
    "import pandas as pd\n",
    "test = pd.read_csv(\"../20043374/testProcessed.csv\")"
   ]
  },
  {
   "cell_type": "code",
   "execution_count": 2,
   "metadata": {},
   "outputs": [],
   "source": [
    "def disease_to_list(df):\n",
    "    diseases = []\n",
    "    for diseases_row in df['DIFFERENTIAL_DIAGNOSIS']:\n",
    "        diseases.append([disease.strip(\" ''\") for disease in diseases_row.strip(\"[]\").split(\",\") ][0].strip(\"[]\").split(\",\")[0])\n",
    "    df['DIFFERENTIAL_DIAGNOSIS'] = diseases\n",
    "    return df\n",
    "\n",
    "import sklearn.metrics\n",
    "def calculate_metric(pathology, prediction, index=[\"data\"]):\n",
    "    return pd.DataFrame({\n",
    "        \"accuracy\": sklearn.metrics.accuracy_score(pathology, prediction),\n",
    "        \"precision\": sklearn.metrics.precision_score(pathology, prediction, average=\"macro\"),\n",
    "        \"recall\": sklearn.metrics.recall_score(pathology, prediction, average=\"macro\"),\n",
    "        \"f1 score\": sklearn.metrics.f1_score(pathology, prediction, average=\"macro\"),\n",
    "        \"balanced accuracy\": sklearn.metrics.balanced_accuracy_score(pathology, prediction)\n",
    "        }, index=index)"
   ]
  },
  {
   "cell_type": "markdown",
   "metadata": {},
   "source": [
    "Predict and calculate metric"
   ]
  },
  {
   "cell_type": "code",
   "execution_count": 3,
   "metadata": {},
   "outputs": [],
   "source": [
    "diff_diagnosis_test = test['DIFFERENTIAL_DIAGNOSIS'].copy()\n",
    "paper_prediction = disease_to_list(pd.DataFrame(diff_diagnosis_test))"
   ]
  },
  {
   "cell_type": "code",
   "execution_count": 4,
   "metadata": {},
   "outputs": [
    {
     "name": "stderr",
     "output_type": "stream",
     "text": [
      "c:\\ProgramData\\anaconda3\\Lib\\site-packages\\sklearn\\metrics\\_classification.py:1469: UndefinedMetricWarning: Precision is ill-defined and being set to 0.0 in labels with no predicted samples. Use `zero_division` parameter to control this behavior.\n",
      "  _warn_prf(average, modifier, msg_start, len(result))\n"
     ]
    },
    {
     "data": {
      "text/html": [
       "<div>\n",
       "<style scoped>\n",
       "    .dataframe tbody tr th:only-of-type {\n",
       "        vertical-align: middle;\n",
       "    }\n",
       "\n",
       "    .dataframe tbody tr th {\n",
       "        vertical-align: top;\n",
       "    }\n",
       "\n",
       "    .dataframe thead th {\n",
       "        text-align: right;\n",
       "    }\n",
       "</style>\n",
       "<table border=\"1\" class=\"dataframe\">\n",
       "  <thead>\n",
       "    <tr style=\"text-align: right;\">\n",
       "      <th></th>\n",
       "      <th>accuracy</th>\n",
       "      <th>precision</th>\n",
       "      <th>recall</th>\n",
       "      <th>f1 score</th>\n",
       "      <th>balanced accuracy</th>\n",
       "    </tr>\n",
       "  </thead>\n",
       "  <tbody>\n",
       "    <tr>\n",
       "      <th>test</th>\n",
       "      <td>0.732838</td>\n",
       "      <td>0.805957</td>\n",
       "      <td>0.705329</td>\n",
       "      <td>0.725808</td>\n",
       "      <td>0.705329</td>\n",
       "    </tr>\n",
       "  </tbody>\n",
       "</table>\n",
       "</div>"
      ],
      "text/plain": [
       "      accuracy  precision    recall  f1 score  balanced accuracy\n",
       "test  0.732838   0.805957  0.705329  0.725808           0.705329"
      ]
     },
     "execution_count": 4,
     "metadata": {},
     "output_type": "execute_result"
    }
   ],
   "source": [
    "test_metric = calculate_metric(test['PATHOLOGY'], paper_prediction, index=[\"test\"])\n",
    "test_metric"
   ]
  }
 ],
 "metadata": {
  "kernelspec": {
   "display_name": "Python 3.11.5 ('base')",
   "language": "python",
   "name": "python3"
  },
  "language_info": {
   "codemirror_mode": {
    "name": "ipython",
    "version": 3
   },
   "file_extension": ".py",
   "mimetype": "text/x-python",
   "name": "python",
   "nbconvert_exporter": "python",
   "pygments_lexer": "ipython3",
   "version": "3.11.5"
  },
  "orig_nbformat": 4,
  "vscode": {
   "interpreter": {
    "hash": "3c06e3e46abf38078fe4dac36a0085ec2b134ebbd73dd076183d243eeca6918f"
   }
  }
 },
 "nbformat": 4,
 "nbformat_minor": 2
}
