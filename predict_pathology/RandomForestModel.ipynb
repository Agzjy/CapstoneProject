{
 "cells": [
  {
   "cell_type": "code",
   "execution_count": 1,
   "metadata": {
    "id": "wET87_cFH6cP"
   },
   "outputs": [],
   "source": [
    "import pandas as pd\n",
    "import numpy as np\n",
    "import matplotlib.pyplot as plt\n",
    "import seaborn as sns\n",
    "import plotly.express as px\n",
    "import scipy.stats as stats\n",
    "from sklearn import preprocessing\n",
    "%matplotlib inline\n",
    "from sklearn.feature_selection import SequentialFeatureSelector as sfs\n",
    "from scipy import stats\n",
    "from scipy.stats import linregress\n",
    "from sklearn.ensemble import RandomForestClassifier\n",
    "from sklearn.model_selection import GridSearchCV\n",
    "from sklearn.datasets import make_classification\n",
    "from sklearn.metrics import accuracy_score, precision_score, recall_score, f1_score\n",
    "from metric_utils import calculate_metri"
   ]
  },
  {
   "cell_type": "code",
   "execution_count": 2,
   "metadata": {
    "id": "O9B6RsIIIBM-"
   },
   "outputs": [],
   "source": [
    "# Import dataset\n",
    "train = pd.read_csv('../data/trainProcessed.csv')\n",
    "validate = pd.read_csv('../data/validateProcessed.csv')\n",
    "test = pd.read_csv('../data/testProcessed.csv')"
   ]
  },
  {
   "cell_type": "code",
   "execution_count": 3,
   "metadata": {
    "id": "D3vE0YGXID-9"
   },
   "outputs": [],
   "source": [
    "#Our group decided to use Random forest to predict the pathology, drop unecessary columns.\n",
    "\n",
    "def data_pre(df):\n",
    "    y=df['PATHOLOGY']\n",
    "    X=df.drop(['DIFFERENTIAL_DIAGNOSIS','PATHOLOGY','INITIAL_EVIDENCE'], axis=1)\n",
    "    return X,y\n",
    "X,y=data_pre(train)"
   ]
  },
  {
   "cell_type": "code",
   "execution_count": 4,
   "metadata": {
    "id": "wt4eR_F9SgGu"
   },
   "outputs": [],
   "source": [
    "X,y=data_pre(train)"
   ]
  },
  {
   "cell_type": "markdown",
   "metadata": {
    "id": "SckBJApFY3Kx"
   },
   "source": [
    "In order to get the best parameter of the model, our group decided to use grid search."
   ]
  },
  {
   "cell_type": "code",
   "execution_count": 10,
   "metadata": {
    "id": "05tE0QdAUX9c"
   },
   "outputs": [
    {
     "name": "stdout",
     "output_type": "stream",
     "text": [
      "Fitting 5 folds for each of 32 candidates, totalling 160 fits\n",
      "[CV] END max_depth=10, max_features=sqrt, min_samples_leaf=1, min_samples_split=2, n_estimators=300; total time=434.8min\n",
      "[CV] END max_depth=10, max_features=sqrt, min_samples_leaf=1, min_samples_split=4, n_estimators=300; total time=494.3min\n",
      "[CV] END max_depth=10, max_features=sqrt, min_samples_leaf=2, min_samples_split=4, n_estimators=100; total time=23.5min\n",
      "[CV] END max_depth=10, max_features=sqrt, min_samples_leaf=2, min_samples_split=4, n_estimators=100; total time=23.2min\n",
      "[CV] END max_depth=10, max_features=auto, min_samples_leaf=1, min_samples_split=2, n_estimators=100; total time=22.1min\n",
      "[CV] END max_depth=10, max_features=auto, min_samples_leaf=1, min_samples_split=2, n_estimators=100; total time=22.7min\n",
      "[CV] END max_depth=10, max_features=auto, min_samples_leaf=1, min_samples_split=2, n_estimators=300; total time=64.1min\n",
      "[CV] END max_depth=10, max_features=auto, min_samples_leaf=1, min_samples_split=4, n_estimators=300; total time=65.6min\n",
      "[CV] END max_depth=10, max_features=auto, min_samples_leaf=2, min_samples_split=4, n_estimators=100; total time=23.0min\n",
      "[CV] END max_depth=10, max_features=auto, min_samples_leaf=2, min_samples_split=4, n_estimators=300; total time=68.1min\n",
      "[CV] END max_depth=20, max_features=sqrt, min_samples_leaf=1, min_samples_split=2, n_estimators=100; total time=64.6min\n",
      "[CV] END max_depth=20, max_features=sqrt, min_samples_leaf=1, min_samples_split=4, n_estimators=100; total time=62.5min\n",
      "[CV] END max_depth=20, max_features=sqrt, min_samples_leaf=1, min_samples_split=4, n_estimators=300; total time=178.3min\n",
      "[CV] END max_depth=20, max_features=sqrt, min_samples_leaf=2, min_samples_split=2, n_estimators=300; total time=143.2min\n",
      "[CV] END max_depth=20, max_features=sqrt, min_samples_leaf=2, min_samples_split=4, n_estimators=300; total time=162.9min\n",
      "[CV] END max_depth=20, max_features=auto, min_samples_leaf=1, min_samples_split=4, n_estimators=100; total time=56.4min\n",
      "[CV] END max_depth=20, max_features=auto, min_samples_leaf=1, min_samples_split=4, n_estimators=100; total time=61.0min\n",
      "[CV] END max_depth=20, max_features=auto, min_samples_leaf=1, min_samples_split=4, n_estimators=300; total time=143.5min\n",
      "[CV] END max_depth=20, max_features=auto, min_samples_leaf=2, min_samples_split=4, n_estimators=100; total time=47.2min\n",
      "[CV] END max_depth=20, max_features=auto, min_samples_leaf=2, min_samples_split=4, n_estimators=100; total time=183.0min\n",
      "[CV] END max_depth=10, max_features=sqrt, min_samples_leaf=1, min_samples_split=2, n_estimators=300; total time=423.2min\n",
      "[CV] END max_depth=10, max_features=sqrt, min_samples_leaf=1, min_samples_split=4, n_estimators=300; total time=503.1min\n",
      "[CV] END max_depth=10, max_features=sqrt, min_samples_leaf=2, min_samples_split=2, n_estimators=300; total time=66.8min\n",
      "[CV] END max_depth=10, max_features=auto, min_samples_leaf=1, min_samples_split=2, n_estimators=100; total time=23.2min\n",
      "[CV] END max_depth=10, max_features=auto, min_samples_leaf=1, min_samples_split=2, n_estimators=300; total time=64.0min\n",
      "[CV] END max_depth=10, max_features=auto, min_samples_leaf=1, min_samples_split=4, n_estimators=300; total time=64.5min\n",
      "[CV] END max_depth=10, max_features=auto, min_samples_leaf=2, min_samples_split=2, n_estimators=300; total time=65.4min\n",
      "[CV] END max_depth=20, max_features=sqrt, min_samples_leaf=1, min_samples_split=2, n_estimators=100; total time=41.1min\n",
      "[CV] END max_depth=20, max_features=sqrt, min_samples_leaf=1, min_samples_split=2, n_estimators=300; total time=178.5min\n",
      "[CV] END max_depth=20, max_features=sqrt, min_samples_leaf=1, min_samples_split=4, n_estimators=300; total time=179.0min\n",
      "[CV] END max_depth=20, max_features=sqrt, min_samples_leaf=2, min_samples_split=4, n_estimators=100; total time=48.3min\n",
      "[CV] END max_depth=20, max_features=sqrt, min_samples_leaf=2, min_samples_split=4, n_estimators=100; total time=48.4min\n",
      "[CV] END max_depth=20, max_features=sqrt, min_samples_leaf=2, min_samples_split=4, n_estimators=300; total time=190.3min\n",
      "[CV] END max_depth=20, max_features=auto, min_samples_leaf=1, min_samples_split=4, n_estimators=100; total time=47.1min\n",
      "[CV] END max_depth=20, max_features=auto, min_samples_leaf=1, min_samples_split=4, n_estimators=300; total time=145.3min\n",
      "[CV] END max_depth=20, max_features=auto, min_samples_leaf=2, min_samples_split=2, n_estimators=300; total time=267.2min\n",
      "[CV] END max_depth=10, max_features=sqrt, min_samples_leaf=1, min_samples_split=2, n_estimators=100; total time=104.2min\n",
      "[CV] END max_depth=10, max_features=sqrt, min_samples_leaf=1, min_samples_split=2, n_estimators=300; total time=463.0min\n",
      "[CV] END max_depth=10, max_features=sqrt, min_samples_leaf=2, min_samples_split=2, n_estimators=100; total time=268.1min\n",
      "[CV] END max_depth=10, max_features=sqrt, min_samples_leaf=2, min_samples_split=2, n_estimators=300; total time=136.3min\n",
      "[CV] END max_depth=10, max_features=sqrt, min_samples_leaf=2, min_samples_split=4, n_estimators=300; total time=66.3min\n",
      "[CV] END max_depth=10, max_features=auto, min_samples_leaf=1, min_samples_split=2, n_estimators=300; total time=64.6min\n",
      "[CV] END max_depth=10, max_features=auto, min_samples_leaf=2, min_samples_split=2, n_estimators=100; total time=23.1min\n",
      "[CV] END max_depth=10, max_features=auto, min_samples_leaf=2, min_samples_split=2, n_estimators=300; total time=65.8min\n",
      "[CV] END max_depth=10, max_features=auto, min_samples_leaf=2, min_samples_split=4, n_estimators=300; total time=69.9min\n",
      "[CV] END max_depth=20, max_features=sqrt, min_samples_leaf=1, min_samples_split=2, n_estimators=300; total time=181.4min\n",
      "[CV] END max_depth=20, max_features=sqrt, min_samples_leaf=2, min_samples_split=2, n_estimators=100; total time=59.7min\n",
      "[CV] END max_depth=20, max_features=sqrt, min_samples_leaf=2, min_samples_split=2, n_estimators=100; total time=61.9min\n",
      "[CV] END max_depth=20, max_features=sqrt, min_samples_leaf=2, min_samples_split=2, n_estimators=300; total time=148.5min\n",
      "[CV] END max_depth=20, max_features=auto, min_samples_leaf=1, min_samples_split=2, n_estimators=100; total time=54.2min\n",
      "[CV] END max_depth=20, max_features=auto, min_samples_leaf=1, min_samples_split=2, n_estimators=100; total time=65.2min\n",
      "[CV] END max_depth=20, max_features=auto, min_samples_leaf=1, min_samples_split=2, n_estimators=300; total time=157.4min\n",
      "[CV] END max_depth=20, max_features=auto, min_samples_leaf=2, min_samples_split=2, n_estimators=100; total time=50.4min\n",
      "[CV] END max_depth=20, max_features=auto, min_samples_leaf=2, min_samples_split=2, n_estimators=100; total time=52.3min\n",
      "[CV] END max_depth=20, max_features=auto, min_samples_leaf=2, min_samples_split=2, n_estimators=300; total time=275.1min\n",
      "[CV] END max_depth=10, max_features=sqrt, min_samples_leaf=1, min_samples_split=2, n_estimators=100; total time=105.9min\n",
      "[CV] END max_depth=10, max_features=sqrt, min_samples_leaf=1, min_samples_split=4, n_estimators=100; total time=191.8min\n",
      "[CV] END max_depth=10, max_features=sqrt, min_samples_leaf=1, min_samples_split=4, n_estimators=100; total time=137.3min\n",
      "[CV] END max_depth=10, max_features=sqrt, min_samples_leaf=1, min_samples_split=4, n_estimators=300; total time=494.0min\n",
      "[CV] END max_depth=10, max_features=sqrt, min_samples_leaf=2, min_samples_split=4, n_estimators=100; total time=23.5min\n",
      "[CV] END max_depth=10, max_features=sqrt, min_samples_leaf=2, min_samples_split=4, n_estimators=300; total time=66.3min\n",
      "[CV] END max_depth=10, max_features=auto, min_samples_leaf=1, min_samples_split=2, n_estimators=300; total time=64.6min\n",
      "[CV] END max_depth=10, max_features=auto, min_samples_leaf=1, min_samples_split=4, n_estimators=300; total time=65.1min\n",
      "[CV] END max_depth=10, max_features=auto, min_samples_leaf=2, min_samples_split=2, n_estimators=300; total time=66.5min\n",
      "[CV] END max_depth=20, max_features=sqrt, min_samples_leaf=1, min_samples_split=2, n_estimators=100; total time=40.7min\n",
      "[CV] END max_depth=20, max_features=sqrt, min_samples_leaf=1, min_samples_split=2, n_estimators=300; total time=176.7min\n",
      "[CV] END max_depth=20, max_features=sqrt, min_samples_leaf=1, min_samples_split=4, n_estimators=300; total time=196.7min\n",
      "[CV] END max_depth=20, max_features=sqrt, min_samples_leaf=2, min_samples_split=4, n_estimators=100; total time=44.6min\n",
      "[CV] END max_depth=20, max_features=sqrt, min_samples_leaf=2, min_samples_split=4, n_estimators=300; total time=158.6min\n",
      "[CV] END max_depth=20, max_features=auto, min_samples_leaf=1, min_samples_split=2, n_estimators=300; total time=144.9min\n",
      "[CV] END max_depth=20, max_features=auto, min_samples_leaf=1, min_samples_split=4, n_estimators=300; total time=145.6min\n"
     ]
    },
    {
     "name": "stdout",
     "output_type": "stream",
     "text": [
      "[CV] END max_depth=20, max_features=auto, min_samples_leaf=2, min_samples_split=4, n_estimators=100; total time=147.8min\n",
      "[CV] END max_depth=20, max_features=auto, min_samples_leaf=2, min_samples_split=4, n_estimators=300; total time=115.4min\n",
      "[CV] END max_depth=10, max_features=sqrt, min_samples_leaf=1, min_samples_split=2, n_estimators=300; total time=420.5min\n",
      "[CV] END max_depth=10, max_features=sqrt, min_samples_leaf=1, min_samples_split=4, n_estimators=300; total time=505.6min\n",
      "[CV] END max_depth=10, max_features=sqrt, min_samples_leaf=2, min_samples_split=2, n_estimators=300; total time=66.0min\n",
      "[CV] END max_depth=10, max_features=auto, min_samples_leaf=1, min_samples_split=2, n_estimators=100; total time=23.2min\n",
      "[CV] END max_depth=10, max_features=auto, min_samples_leaf=1, min_samples_split=2, n_estimators=100; total time=23.5min\n",
      "[CV] END max_depth=10, max_features=auto, min_samples_leaf=1, min_samples_split=4, n_estimators=100; total time=22.4min\n",
      "[CV] END max_depth=10, max_features=auto, min_samples_leaf=1, min_samples_split=4, n_estimators=100; total time=23.4min\n",
      "[CV] END max_depth=10, max_features=auto, min_samples_leaf=1, min_samples_split=4, n_estimators=300; total time=64.9min\n",
      "[CV] END max_depth=10, max_features=auto, min_samples_leaf=2, min_samples_split=4, n_estimators=100; total time=23.2min\n",
      "[CV] END max_depth=10, max_features=auto, min_samples_leaf=2, min_samples_split=4, n_estimators=100; total time=23.7min\n",
      "[CV] END max_depth=10, max_features=auto, min_samples_leaf=2, min_samples_split=4, n_estimators=300; total time=73.1min\n",
      "[CV] END max_depth=20, max_features=sqrt, min_samples_leaf=1, min_samples_split=4, n_estimators=100; total time=62.0min\n",
      "[CV] END max_depth=20, max_features=sqrt, min_samples_leaf=1, min_samples_split=4, n_estimators=100; total time=62.0min\n",
      "[CV] END max_depth=20, max_features=sqrt, min_samples_leaf=1, min_samples_split=4, n_estimators=300; total time=173.7min\n",
      "[CV] END max_depth=20, max_features=sqrt, min_samples_leaf=2, min_samples_split=2, n_estimators=300; total time=147.1min\n",
      "[CV] END max_depth=20, max_features=auto, min_samples_leaf=1, min_samples_split=2, n_estimators=100; total time=51.4min\n",
      "[CV] END max_depth=20, max_features=auto, min_samples_leaf=1, min_samples_split=2, n_estimators=100; total time=57.5min\n",
      "[CV] END max_depth=20, max_features=auto, min_samples_leaf=1, min_samples_split=2, n_estimators=300; total time=156.1min\n",
      "[CV] END max_depth=20, max_features=auto, min_samples_leaf=2, min_samples_split=2, n_estimators=100; total time=48.1min\n",
      "[CV] END max_depth=20, max_features=auto, min_samples_leaf=2, min_samples_split=2, n_estimators=100; total time=30.7min\n",
      "[CV] END max_depth=20, max_features=auto, min_samples_leaf=2, min_samples_split=2, n_estimators=300; total time=249.3min\n",
      "[CV] END max_depth=20, max_features=auto, min_samples_leaf=2, min_samples_split=4, n_estimators=300; total time=83.1min\n",
      "[CV] END max_depth=10, max_features=sqrt, min_samples_leaf=1, min_samples_split=2, n_estimators=100; total time=114.3min\n",
      "[CV] END max_depth=10, max_features=sqrt, min_samples_leaf=1, min_samples_split=4, n_estimators=100; total time=192.7min\n",
      "[CV] END max_depth=10, max_features=sqrt, min_samples_leaf=1, min_samples_split=4, n_estimators=300; total time=519.6min\n",
      "[CV] END max_depth=10, max_features=sqrt, min_samples_leaf=2, min_samples_split=2, n_estimators=100; total time=101.5min\n",
      "[CV] END max_depth=10, max_features=sqrt, min_samples_leaf=2, min_samples_split=4, n_estimators=100; total time=22.9min\n",
      "[CV] END max_depth=10, max_features=sqrt, min_samples_leaf=2, min_samples_split=4, n_estimators=100; total time=22.8min\n",
      "[CV] END max_depth=10, max_features=sqrt, min_samples_leaf=2, min_samples_split=4, n_estimators=300; total time=67.0min\n",
      "[CV] END max_depth=10, max_features=auto, min_samples_leaf=1, min_samples_split=4, n_estimators=100; total time=22.9min\n",
      "[CV] END max_depth=10, max_features=auto, min_samples_leaf=1, min_samples_split=4, n_estimators=100; total time=23.2min\n",
      "[CV] END max_depth=10, max_features=auto, min_samples_leaf=2, min_samples_split=2, n_estimators=100; total time=22.8min\n",
      "[CV] END max_depth=10, max_features=auto, min_samples_leaf=2, min_samples_split=2, n_estimators=100; total time=23.1min\n",
      "[CV] END max_depth=10, max_features=auto, min_samples_leaf=2, min_samples_split=2, n_estimators=300; total time=64.3min\n",
      "[CV] END max_depth=20, max_features=sqrt, min_samples_leaf=1, min_samples_split=2, n_estimators=100; total time=36.8min\n",
      "[CV] END max_depth=20, max_features=sqrt, min_samples_leaf=1, min_samples_split=2, n_estimators=100; total time=51.4min\n",
      "[CV] END max_depth=20, max_features=sqrt, min_samples_leaf=1, min_samples_split=4, n_estimators=100; total time=60.9min\n",
      "[CV] END max_depth=20, max_features=sqrt, min_samples_leaf=1, min_samples_split=4, n_estimators=100; total time=73.8min\n",
      "[CV] END max_depth=20, max_features=sqrt, min_samples_leaf=1, min_samples_split=4, n_estimators=300; total time=175.2min\n",
      "[CV] END max_depth=20, max_features=sqrt, min_samples_leaf=2, min_samples_split=4, n_estimators=100; total time=49.4min\n",
      "[CV] END max_depth=20, max_features=sqrt, min_samples_leaf=2, min_samples_split=4, n_estimators=100; total time=43.5min\n",
      "[CV] END max_depth=20, max_features=sqrt, min_samples_leaf=2, min_samples_split=4, n_estimators=300; total time=160.5min\n",
      "[CV] END max_depth=20, max_features=auto, min_samples_leaf=1, min_samples_split=4, n_estimators=100; total time=56.3min\n",
      "[CV] END max_depth=20, max_features=auto, min_samples_leaf=1, min_samples_split=4, n_estimators=100; total time=51.9min\n",
      "[CV] END max_depth=20, max_features=auto, min_samples_leaf=1, min_samples_split=4, n_estimators=300; total time=147.0min\n",
      "[CV] END max_depth=20, max_features=auto, min_samples_leaf=2, min_samples_split=4, n_estimators=100; total time=49.4min\n",
      "[CV] END max_depth=20, max_features=auto, min_samples_leaf=2, min_samples_split=4, n_estimators=100; total time=164.4min\n",
      "[CV] END max_depth=20, max_features=auto, min_samples_leaf=2, min_samples_split=4, n_estimators=300; total time=74.0min\n",
      "[CV] END max_depth=10, max_features=sqrt, min_samples_leaf=1, min_samples_split=2, n_estimators=100; total time=108.1min\n",
      "[CV] END max_depth=10, max_features=sqrt, min_samples_leaf=1, min_samples_split=4, n_estimators=100; total time=191.1min\n",
      "[CV] END max_depth=10, max_features=sqrt, min_samples_leaf=1, min_samples_split=4, n_estimators=100; total time=143.8min\n",
      "[CV] END max_depth=10, max_features=sqrt, min_samples_leaf=2, min_samples_split=2, n_estimators=100; total time=135.0min\n",
      "[CV] END max_depth=10, max_features=sqrt, min_samples_leaf=2, min_samples_split=2, n_estimators=100; total time=258.1min\n",
      "[CV] END max_depth=10, max_features=sqrt, min_samples_leaf=2, min_samples_split=2, n_estimators=300; total time=136.0min\n",
      "[CV] END max_depth=10, max_features=sqrt, min_samples_leaf=2, min_samples_split=4, n_estimators=300; total time=65.4min\n",
      "[CV] END max_depth=10, max_features=auto, min_samples_leaf=1, min_samples_split=2, n_estimators=300; total time=64.9min\n",
      "[CV] END max_depth=10, max_features=auto, min_samples_leaf=2, min_samples_split=2, n_estimators=100; total time=23.2min\n",
      "[CV] END max_depth=10, max_features=auto, min_samples_leaf=2, min_samples_split=2, n_estimators=100; total time=23.8min\n",
      "[CV] END max_depth=10, max_features=auto, min_samples_leaf=2, min_samples_split=4, n_estimators=100; total time=22.9min\n",
      "[CV] END max_depth=10, max_features=auto, min_samples_leaf=2, min_samples_split=4, n_estimators=100; total time=22.5min\n",
      "[CV] END max_depth=10, max_features=auto, min_samples_leaf=2, min_samples_split=4, n_estimators=300; total time=72.9min\n",
      "[CV] END max_depth=20, max_features=sqrt, min_samples_leaf=1, min_samples_split=2, n_estimators=300; total time=209.1min\n",
      "[CV] END max_depth=20, max_features=sqrt, min_samples_leaf=2, min_samples_split=2, n_estimators=100; total time=59.8min\n",
      "[CV] END max_depth=20, max_features=sqrt, min_samples_leaf=2, min_samples_split=2, n_estimators=300; total time=143.3min\n",
      "[CV] END max_depth=20, max_features=sqrt, min_samples_leaf=2, min_samples_split=4, n_estimators=300; total time=158.5min\n",
      "[CV] END max_depth=20, max_features=auto, min_samples_leaf=1, min_samples_split=2, n_estimators=300; total time=185.2min\n",
      "[CV] END max_depth=20, max_features=auto, min_samples_leaf=2, min_samples_split=2, n_estimators=100; total time=42.7min\n",
      "[CV] END max_depth=20, max_features=auto, min_samples_leaf=2, min_samples_split=2, n_estimators=300; total time=260.2min\n",
      "[CV] END max_depth=20, max_features=auto, min_samples_leaf=2, min_samples_split=4, n_estimators=300; total time=66.1min\n"
     ]
    },
    {
     "name": "stdout",
     "output_type": "stream",
     "text": [
      "[CV] END max_depth=10, max_features=sqrt, min_samples_leaf=1, min_samples_split=2, n_estimators=100; total time=104.2min\n",
      "[CV] END max_depth=10, max_features=sqrt, min_samples_leaf=1, min_samples_split=2, n_estimators=300; total time=478.9min\n",
      "[CV] END max_depth=10, max_features=sqrt, min_samples_leaf=2, min_samples_split=2, n_estimators=100; total time=264.3min\n",
      "[CV] END max_depth=10, max_features=sqrt, min_samples_leaf=2, min_samples_split=2, n_estimators=300; total time=125.4min\n",
      "[CV] END max_depth=10, max_features=sqrt, min_samples_leaf=2, min_samples_split=4, n_estimators=300; total time=67.7min\n",
      "[CV] END max_depth=10, max_features=auto, min_samples_leaf=1, min_samples_split=4, n_estimators=100; total time=23.8min\n",
      "[CV] END max_depth=10, max_features=auto, min_samples_leaf=1, min_samples_split=4, n_estimators=300; total time=65.1min\n",
      "[CV] END max_depth=10, max_features=auto, min_samples_leaf=2, min_samples_split=2, n_estimators=300; total time=65.0min\n",
      "[CV] END max_depth=10, max_features=auto, min_samples_leaf=2, min_samples_split=4, n_estimators=300; total time=71.5min\n",
      "[CV] END max_depth=20, max_features=sqrt, min_samples_leaf=1, min_samples_split=2, n_estimators=300; total time=183.1min\n",
      "[CV] END max_depth=20, max_features=sqrt, min_samples_leaf=2, min_samples_split=2, n_estimators=100; total time=55.7min\n",
      "[CV] END max_depth=20, max_features=sqrt, min_samples_leaf=2, min_samples_split=2, n_estimators=100; total time=70.6min\n",
      "[CV] END max_depth=20, max_features=sqrt, min_samples_leaf=2, min_samples_split=2, n_estimators=300; total time=171.1min\n",
      "[CV] END max_depth=20, max_features=auto, min_samples_leaf=1, min_samples_split=2, n_estimators=100; total time=53.9min\n",
      "[CV] END max_depth=20, max_features=auto, min_samples_leaf=1, min_samples_split=2, n_estimators=300; total time=154.1min\n",
      "[CV] END max_depth=20, max_features=auto, min_samples_leaf=1, min_samples_split=4, n_estimators=300; total time=120.1min\n",
      "[CV] END max_depth=20, max_features=auto, min_samples_leaf=2, min_samples_split=2, n_estimators=300; total time=262.0min\n",
      "[CV] END max_depth=20, max_features=auto, min_samples_leaf=2, min_samples_split=4, n_estimators=300; total time=57.2min\n"
     ]
    }
   ],
   "source": [
    "# To find the best parameter for the model, we decided to run the grid search.\n",
    "\n",
    "X,y=data_pre(train)\n",
    "param_grid = {\n",
    "    'n_estimators':[100,300],\n",
    "    'max_depth': [10, 20],\n",
    "    'min_samples_split': [2,4],\n",
    "    'min_samples_leaf': [1, 2],\n",
    "    'max_features': ['sqrt', 'auto'],\n",
    "}\n",
    "\n",
    "\n",
    "myclf = RandomForestClassifier(random_state=0)\n",
    "\n",
    "\n",
    "grid_search = GridSearchCV(estimator=myclf, param_grid=param_grid,\n",
    "                           cv=5, n_jobs=-1, verbose=2, scoring='accuracy')\n",
    "\n",
    "grid_search.fit(X, y)\n",
    "\n",
    "best_params_ = grid_search.best_params_\n"
   ]
  },
  {
   "cell_type": "markdown",
   "metadata": {
    "id": "JpKtqJSfY9fS"
   },
   "source": [
    "After finding the best parameter, we use it in the model and see the performance on the valifation set."
   ]
  },
  {
   "cell_type": "code",
   "execution_count": 11,
   "metadata": {
    "colab": {
     "base_uri": "https://localhost:8080/",
     "height": 92
    },
    "id": "EQ43Kd9gIDq-",
    "outputId": "170ebe11-ba15-4339-e221-4da9a6fc25ed"
   },
   "outputs": [
    {
     "name": "stderr",
     "output_type": "stream",
     "text": [
      "/Users/zihanzhao/opt/anaconda3/lib/python3.8/site-packages/sklearn/ensemble/_forest.py:765: UserWarning: class_weight presets \"balanced\" or \"balanced_subsample\" are not recommended for warm_start if the fitted data differs from the full dataset. In order to use \"balanced\" weights, use compute_class_weight (\"balanced\", classes, y). In place of y you can use a large enough sample of the full training set target to properly estimate the class frequency distributions. Pass the resulting weights as the class_weight parameter.\n",
      "  warn(\n"
     ]
    },
    {
     "data": {
      "text/plain": [
       "RandomForestClassifier(bootstrap=False, class_weight='balanced',\n",
       "                       criterion='entropy', max_depth=20, max_features='sqrt',\n",
       "                       n_estimators=300, random_state=0, warm_start=True)"
      ]
     },
     "execution_count": 11,
     "metadata": {},
     "output_type": "execute_result"
    }
   ],
   "source": [
    "clf = RandomForestClassifier(**best_params_,\n",
    "#                               n_estimators = 300,\n",
    "                             class_weight='balanced',\n",
    "#                              max_features= 'auto',\n",
    "                             criterion='entropy',\n",
    "                             bootstrap=False,\n",
    "                             warm_start=True,\n",
    "                             random_state=0)\n",
    "clf.fit(X, y)"
   ]
  },
  {
   "cell_type": "markdown",
   "metadata": {
    "id": "GRPa8YPubDyZ"
   },
   "source": [
    "**Evaluate on validation dataset**"
   ]
  },
  {
   "cell_type": "code",
   "execution_count": 12,
   "metadata": {
    "id": "Ii6YVo-FUyBv"
   },
   "outputs": [],
   "source": [
    "# Prepare the validation set\n",
    "X_validate,y_validate=data_pre(validate)\n",
    "y_pred_validate=clf.predict(X_validate)"
   ]
  },
  {
   "cell_type": "code",
   "execution_count": 13,
   "metadata": {
    "colab": {
     "base_uri": "https://localhost:8080/"
    },
    "id": "4agFoVwaU-p0",
    "outputId": "44880093-b251-4208-cdb8-c2bc828b74be"
   },
   "outputs": [
    {
     "name": "stdout",
     "output_type": "stream",
     "text": [
      "Accuracy: 0.9967969298875148\n",
      "Precision: 0.9970599332940475\n",
      "Recall: 0.9958753203048871\n",
      "F1 Score: 0.9967513319074114\n"
     ]
    }
   ],
   "source": [
    "# Use Accuracy, Precision, Recall and F1 score to evaluate the performance\n",
    "accuracy_v = accuracy_score(y_validate, y_pred_validate)\n",
    "precision_v = precision_score(y_validate, y_pred_validate,average='macro')\n",
    "recall_v = recall_score(y_validate, y_pred_validate,average='macro')\n",
    "f1 = f1_score(y_validate, y_pred_validate, average='weighted')\n",
    "\n",
    "print(f\"Accuracy: {accuracy_v}\")\n",
    "print(f\"Precision: {precision_v}\")\n",
    "print(f\"Recall: {recall_v}\")\n",
    "print(f\"F1 Score: {f1}\")"
   ]
  },
  {
   "cell_type": "markdown",
   "metadata": {
    "id": "tcnkRCCrZGlA"
   },
   "source": [
    "According to the model's outcome validation set, the Accuracy and F1 score is high enough, so it is good to use in the test set. The reason of its high accuracy and F1 score is because of the enormous size of our dataset."
   ]
  },
  {
   "cell_type": "markdown",
   "metadata": {
    "id": "yeUOi0VFbOWU"
   },
   "source": [
    "**Result on Test dataset**"
   ]
  },
  {
   "cell_type": "code",
   "execution_count": 14,
   "metadata": {
    "id": "Hdl8anPmVAJ2"
   },
   "outputs": [],
   "source": [
    "# Prepare the test set\n",
    "y_test=test['PATHOLOGY']\n",
    "X_test=test.drop(['DIFFERENTIAL_DIAGNOSIS','PATHOLOGY','INITIAL_EVIDENCE'], axis=1)\n",
    "y_pred_test=clf.predict(X_test)"
   ]
  },
  {
   "cell_type": "code",
   "execution_count": 15,
   "metadata": {
    "colab": {
     "base_uri": "https://localhost:8080/"
    },
    "id": "S4ZV1b3rVAFF",
    "outputId": "bc15b1f8-38a6-4789-8a35-c087c6431c26"
   },
   "outputs": [
    {
     "name": "stdout",
     "output_type": "stream",
     "text": [
      "Accuracy: 0.9972252804475258\n",
      "Precision: 0.9973300992540448\n",
      "Recall: 0.9963547832020998\n",
      "F1 Score: 0.9966679090285613\n",
      "Balanced Accuracy: 0.9963547832020998\n"
     ]
    }
   ],
   "source": [
    "# apply the function to get the evaluation metric\n",
    "test_metric = calculate_metric(y_test, y_pred_test, index=[\"data\"])\n",
    "test_metric = test_metric.loc['data']\n",
    "\n",
    "print(f\"Accuracy: {test_metric['accuracy']}\")\n",
    "print(f\"Precision: {test_metric['precision']}\")\n",
    "print(f\"Recall: {test_metric['recall']}\")\n",
    "print(f\"F1 Score: {test_metric['f1 score']}\")\n",
    "print(f\"Balanced Accuracy: {test_metric['balanced accuracy']}\")"
   ]
  },
  {
   "cell_type": "markdown",
   "metadata": {
    "id": "30mst-upZXqo"
   },
   "source": [
    "Our final result on the test set is shown above. We reached the maximum accuracy of 0.9972 and 0.9967 F1 score, which is high enough to predict the pathology."
   ]
  },
  {
   "cell_type": "markdown",
   "metadata": {
    "id": "dssX5oi9buKG"
   },
   "source": [
    "**Accuracy for each pathology**"
   ]
  },
  {
   "cell_type": "code",
   "execution_count": 16,
   "metadata": {
    "colab": {
     "base_uri": "https://localhost:8080/"
    },
    "id": "hn5OWyuCbb3N",
    "outputId": "c468c4b0-3aae-461b-de04-4564ced6c0ea"
   },
   "outputs": [
    {
     "name": "stdout",
     "output_type": "stream",
     "text": [
      "Accuracy for class Anaphylaxie: 1.0\n",
      "Accuracy for class Angine instable: 0.9996131758264647\n",
      "Accuracy for class Angine stable: 0.9996131758264647\n",
      "Accuracy for class Anémie: 1.0\n",
      "Accuracy for class Asthme exacerbé ou bronchospasme: 1.0\n",
      "Accuracy for class Attaque de panique: 1.0\n",
      "Accuracy for class Bronchiectasies: 1.0\n",
      "Accuracy for class Bronchiolite: 1.0\n",
      "Accuracy for class Bronchite: 1.0\n",
      "Accuracy for class Chagas: 1.0\n",
      "Accuracy for class Coqueluche: 1.0\n",
      "Accuracy for class Céphalée en grappe: 1.0\n",
      "Accuracy for class Ebola: 1.0\n",
      "Accuracy for class Embolie pulmonaire: 1.0\n",
      "Accuracy for class Exacerbation aigue de MPOC et/ou surinfection associée: 1.0\n",
      "Accuracy for class Fibrillation auriculaire/Flutter auriculaire: 1.0\n",
      "Accuracy for class Fracture de côte spontanée: 1.0\n",
      "Accuracy for class Hernie inguinale: 1.0\n",
      "Accuracy for class IVRS ou virémie: 1.0\n",
      "Accuracy for class Laryngite aigue: 0.9997545154283334\n",
      "Accuracy for class Laryngo-trachéo-bronchite (Croup): 0.9999925610735858\n",
      "Accuracy for class Laryngospasme: 1.0\n",
      "Accuracy for class Lupus érythémateux disséminé (LED): 1.0\n",
      "Accuracy for class Myasthénie grave: 1.0\n",
      "Accuracy for class Myocardite: 0.9999851221471717\n",
      "Accuracy for class Néoplasie du pancréas: 1.0\n",
      "Accuracy for class OAP/Surcharge pulmonaire: 1.0\n",
      "Accuracy for class Oedème localisé ou généralisé sans atteinte pulmonaire associée: 1.0\n",
      "Accuracy for class Otite moyenne aigue (OMA): 0.9999925610735858\n",
      "Accuracy for class Pharyngite virale: 0.9997545154283334\n",
      "Accuracy for class Pneumonie: 1.0\n",
      "Accuracy for class Pneumothorax spontané: 1.0\n",
      "Accuracy for class Possible NSTEMI / STEMI: 1.0\n",
      "Accuracy for class Possible influenza ou syndrome virémique typique: 1.0\n",
      "Accuracy for class Péricardite: 1.0\n",
      "Accuracy for class RGO: 1.0\n",
      "Accuracy for class Rhinite allergique: 0.9999925610735858\n",
      "Accuracy for class Rhinosinusite aigue: 0.9978873448983843\n",
      "Accuracy for class Rhinosinusite chronique: 0.9978873448983843\n",
      "Accuracy for class Réaction dystonique aïgue: 1.0\n",
      "Accuracy for class Sarcoïdose: 1.0\n",
      "Accuracy for class Scombroïde: 1.0\n",
      "Accuracy for class Syndrome de Boerhaave: 1.0\n",
      "Accuracy for class Syndrome de Guillain-Barré: 1.0\n",
      "Accuracy for class TSVP: 0.9999776832207575\n",
      "Accuracy for class Tuberculose: 1.0\n",
      "Accuracy for class VIH (Primo-infection): 1.0\n",
      "Accuracy for class néoplasie pulmonaire: 1.0\n",
      "Accuracy for class Épiglottite: 1.0\n"
     ]
    }
   ],
   "source": [
    "classes = np.unique(y_test)\n",
    "accuracies = {}\n",
    "for cls in classes:\n",
    "    cls_true = (y_test == cls).astype(int)\n",
    "    cls_pred = (y_pred_test == cls).astype(int)\n",
    "\n",
    "    accuracies[cls] = accuracy_score(cls_true, cls_pred)\n",
    "\n",
    "for cls, acc in accuracies.items():\n",
    "    print(f\"Accuracy for class {cls}: {acc}\")"
   ]
  },
  {
   "cell_type": "markdown",
   "metadata": {
    "id": "Iebm2TVGbbMo"
   },
   "source": [
    "\n",
    "However, there is one limitation: the grid search process takes too long, our group is still trying to find a less time consuming way. Also, our dataset only contains pathology that are related with breath, throat and lungth. The model performance on dataset that contain wider pathology range is still unclear."
   ]
  },
  {
   "cell_type": "code",
   "execution_count": null,
   "metadata": {},
   "outputs": [],
   "source": []
  },
  {
   "cell_type": "code",
   "execution_count": null,
   "metadata": {},
   "outputs": [],
   "source": []
  },
  {
   "cell_type": "code",
   "execution_count": null,
   "metadata": {},
   "outputs": [],
   "source": []
  },
  {
   "cell_type": "code",
   "execution_count": null,
   "metadata": {},
   "outputs": [],
   "source": []
  }
 ],
 "metadata": {
  "colab": {
   "machine_shape": "hm",
   "provenance": []
  },
  "kernelspec": {
   "display_name": "Python 3 (ipykernel)",
   "language": "python",
   "name": "python3"
  },
  "language_info": {
   "codemirror_mode": {
    "name": "ipython",
    "version": 3
   },
   "file_extension": ".py",
   "mimetype": "text/x-python",
   "name": "python",
   "nbconvert_exporter": "python",
   "pygments_lexer": "ipython3",
   "version": "3.8.8"
  },
  "vscode": {
   "interpreter": {
    "hash": "3c06e3e46abf38078fe4dac36a0085ec2b134ebbd73dd076183d243eeca6918f"
   }
  }
 },
 "nbformat": 4,
 "nbformat_minor": 1
}
