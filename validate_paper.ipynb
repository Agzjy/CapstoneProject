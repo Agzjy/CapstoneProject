{
 "cells": [
  {
   "cell_type": "code",
   "execution_count": 1,
   "metadata": {},
   "outputs": [],
   "source": [
    "import pandas\n",
    "\n",
    "valid = pandas.read_csv(\"20043374\\\\validateProcessed.csv\")"
   ]
  },
  {
   "cell_type": "code",
   "execution_count": 2,
   "metadata": {},
   "outputs": [],
   "source": [
    "diff_diagnosis_valid = valid['DIFFERENTIAL_DIAGNOSIS'].copy()\n",
    "valid = valid.drop('DIFFERENTIAL_DIAGNOSIS', axis=1)\n",
    "valid = valid.drop('INITIAL_EVIDENCE', axis=1)\n",
    "valid[list(set(valid.columns) - set(['AGE', 'PATHOLOGY']))] = valid[list(set(valid.columns) - set(['AGE', 'PATHOLOGY']))].astype(bool)"
   ]
  },
  {
   "cell_type": "code",
   "execution_count": 3,
   "metadata": {},
   "outputs": [],
   "source": [
    "def disease_to_list(df):\n",
    "    diseases = []\n",
    "    for diseases_row in df['DIFFERENTIAL_DIAGNOSIS']:\n",
    "        diseases.append([disease.strip(\" ''\") for disease in diseases_row.strip(\"[]\").split(\",\") ][0].strip(\"[]\").split(\",\")[0])\n",
    "    df['DIFFERENTIAL_DIAGNOSIS'] = diseases\n",
    "    return df"
   ]
  },
  {
   "cell_type": "code",
   "execution_count": 4,
   "metadata": {},
   "outputs": [],
   "source": [
    "paper_prediction = disease_to_list(pandas.DataFrame(diff_diagnosis_valid))"
   ]
  },
  {
   "cell_type": "code",
   "execution_count": 5,
   "metadata": {},
   "outputs": [
    {
     "name": "stdout",
     "output_type": "stream",
     "text": [
      "0.7336917129741484\n"
     ]
    },
    {
     "name": "stderr",
     "output_type": "stream",
     "text": [
      "c:\\ProgramData\\anaconda3\\Lib\\site-packages\\sklearn\\metrics\\_classification.py:1469: UndefinedMetricWarning: Precision is ill-defined and being set to 0.0 in labels with no predicted samples. Use `zero_division` parameter to control this behavior.\n",
      "  _warn_prf(average, modifier, msg_start, len(result))\n"
     ]
    },
    {
     "name": "stdout",
     "output_type": "stream",
     "text": [
      "0.8047180845960777\n",
      "0.7030026694098916\n",
      "0.7234713833397826\n",
      "0.7030026694098916\n"
     ]
    }
   ],
   "source": [
    "import sklearn.metrics\n",
    "\n",
    "print(sklearn.metrics.accuracy_score(valid['PATHOLOGY'], paper_prediction))\n",
    "print(sklearn.metrics.precision_score(valid['PATHOLOGY'], paper_prediction, average=\"macro\"))\n",
    "print(sklearn.metrics.balanced_accuracy_score(valid['PATHOLOGY'], paper_prediction))\n",
    "print(sklearn.metrics.f1_score(valid['PATHOLOGY'], paper_prediction, average=\"macro\"))\n",
    "print(sklearn.metrics.recall_score(valid['PATHOLOGY'], paper_prediction, average=\"macro\"))"
   ]
  }
 ],
 "metadata": {
  "kernelspec": {
   "display_name": "Python 3.11.5 ('base')",
   "language": "python",
   "name": "python3"
  },
  "language_info": {
   "codemirror_mode": {
    "name": "ipython",
    "version": 3
   },
   "file_extension": ".py",
   "mimetype": "text/x-python",
   "name": "python",
   "nbconvert_exporter": "python",
   "pygments_lexer": "ipython3",
   "version": "3.11.5"
  },
  "orig_nbformat": 4,
  "vscode": {
   "interpreter": {
    "hash": "3c06e3e46abf38078fe4dac36a0085ec2b134ebbd73dd076183d243eeca6918f"
   }
  }
 },
 "nbformat": 4,
 "nbformat_minor": 2
}
